{
 "cells": [
  {
   "cell_type": "markdown",
   "metadata": {},
   "source": [
    "# 歐幾里德距離\n",
    "1. 生成兩個table 各為n*n個隨機變數\n",
    "2. 進行x1-y1 以此類推相減 並取平成相加再開根號\n",
    "3. 找出最近的兩個點"
   ]
  },
  {
   "cell_type": "code",
   "execution_count": 9,
   "metadata": {},
   "outputs": [],
   "source": [
    "import numpy as np\n",
    "import pandas as pd"
   ]
  },
  {
   "cell_type": "markdown",
   "metadata": {},
   "source": [
    "## 生成兩個 10*10 隨機變數(X,Y)"
   ]
  },
  {
   "cell_type": "code",
   "execution_count": 25,
   "metadata": {},
   "outputs": [
    {
     "name": "stdout",
     "output_type": "stream",
     "text": [
      "           0          1          2          3          4          5  \\\n",
      "0  61.000117  25.875878  81.106379  19.530446  96.722782  89.053393   \n",
      "1  98.959809  27.689697   3.548594  48.387884  51.147745   9.644171   \n",
      "2  43.264543  16.900181  91.998162  31.799009  64.436763  32.288682   \n",
      "3   1.295674  24.399213  44.970069   8.377761  98.313457  95.801356   \n",
      "4  64.175759  38.208916  25.109208  86.279743  47.744259  31.561390   \n",
      "\n",
      "           6          7          8          9  \n",
      "0   5.602424  69.484567  24.810543  58.266826  \n",
      "1  61.424799   8.900296  50.030589  69.452864  \n",
      "2  28.542892   5.769471  24.911188   3.833322  \n",
      "3  96.375784  83.342862  17.441781  27.304869  \n",
      "4  88.245946  71.081708  51.872169  68.326388  \n",
      "           0          1          2          3          4          5  \\\n",
      "0  99.502103  12.114595  76.134565  38.186732  68.047855  46.820952   \n",
      "1  75.689615  53.507070   2.201776  78.282882  87.137939  25.045248   \n",
      "2   1.854241  75.221601  91.649050  66.250516  72.004753  18.504831   \n",
      "3   2.989780  41.337293  23.752015  71.772958  70.076648   1.313673   \n",
      "4  43.511568   0.491897  29.364281  70.248234   6.107358  49.861501   \n",
      "\n",
      "           6          7          8          9  \n",
      "0   6.037627  68.832308  65.910997  61.322963  \n",
      "1  93.212101  17.554263  70.838415   4.564722  \n",
      "2  26.373041  88.485540  98.114040  80.760155  \n",
      "3  61.164060  71.076695  62.974448  98.523140  \n",
      "4  96.386497  22.797171  37.008684  17.690210  \n"
     ]
    }
   ],
   "source": [
    "x = pd.DataFrame(np.random.uniform(0, 100, size=(10, 10)), columns=list('0123456789'))\n",
    "#x.columns = ['x1','x2','x3','x4','x5','x6','x7','x8','x9','x10']\n",
    "print(x.head())\n",
    "\n",
    "y = pd.DataFrame(np.random.uniform(0, 100, size=(10, 10)), columns=list('0123456789'))\n",
    "#y.columns = ['y1','y2','y3','y4','y5','y6','y7','y8','y9','y10']\n",
    "print(y.head())"
   ]
  },
  {
   "cell_type": "markdown",
   "metadata": {},
   "source": [
    "## 確認column name相同"
   ]
  },
  {
   "cell_type": "code",
   "execution_count": 26,
   "metadata": {},
   "outputs": [
    {
     "name": "stdout",
     "output_type": "stream",
     "text": [
      "['0' '1' '2' '3' '4' '5' '6' '7' '8' '9']\n",
      "['0' '1' '2' '3' '4' '5' '6' '7' '8' '9']\n"
     ]
    }
   ],
   "source": [
    "x['1'].head()\n",
    "list_x = x.columns.values\n",
    "print(list_x)\n",
    "\n",
    "list_y = y.columns.values\n",
    "print(list_y)"
   ]
  },
  {
   "cell_type": "markdown",
   "metadata": {},
   "source": [
    "## 建立 diff "
   ]
  },
  {
   "cell_type": "code",
   "execution_count": 27,
   "metadata": {},
   "outputs": [
    {
     "name": "stdout",
     "output_type": "stream",
     "text": [
      "Empty DataFrame\n",
      "Columns: []\n",
      "Index: []\n",
      "[]\n"
     ]
    }
   ],
   "source": [
    "# create empty dataframe\n",
    "diff = pd.DataFrame()\n",
    "print(diff.head())\n",
    "\n",
    "list_diff = diff.columns.values\n",
    "print(list_diff)"
   ]
  },
  {
   "cell_type": "markdown",
   "metadata": {},
   "source": [
    "## 將 x1-y1 ; x2-y2... 寫入diff，並計算x,y之間距離"
   ]
  },
  {
   "cell_type": "code",
   "execution_count": 28,
   "metadata": {},
   "outputs": [
    {
     "name": "stdout",
     "output_type": "stream",
     "text": [
      "       d_x0_y0    Distance      d_x1_y1     d_x2_y2      d_x3_y3      d_x4_y4  \\\n",
      "0  1482.402925   80.185038   189.372916   24.718941   348.057014   822.251476   \n",
      "1   541.501934   97.144661   666.536743    1.813920   893.710928  1295.294069   \n",
      "2  1714.813102  157.514840  3401.388077    0.121879  1186.906354    57.274480   \n",
      "3     2.869994  152.165027   286.898545  450.205822  4018.950913   797.317399   \n",
      "4   427.008779   97.256672  1422.573494   18.105645   257.009298  1733.631532   \n",
      "\n",
      "       d_x5_y5      d_x6_y6      d_x7_y7      d_x8_y8      d_x9_y9  \n",
      "0  1783.579020     0.189401     0.425442  1689.247283     9.339973  \n",
      "1   237.193202  1010.432547    74.891145   432.965653  4210.470906  \n",
      "2   189.994536     4.708250  6841.948043  5358.657581  5917.737518  \n",
      "3  8927.922373  1239.865456   150.458845  2073.223738  5072.042114  \n",
      "4   334.894064    66.268573  2331.396501   220.923178  2564.022591  \n"
     ]
    }
   ],
   "source": [
    "for i in list_x:\n",
    "    d = (x[i] - y[i]) ** 2\n",
    "    diff['d_x'  + i  + '_y' + i] = d # Add new column which is the result of multiplying columns i and j together\n",
    "    diff['Distance'] = diff.sum(axis=1) ** .5\n",
    "print(diff.head())"
   ]
  },
  {
   "cell_type": "markdown",
   "metadata": {},
   "source": [
    "### 驗算"
   ]
  },
  {
   "cell_type": "code",
   "execution_count": 29,
   "metadata": {},
   "outputs": [
    {
     "name": "stdout",
     "output_type": "stream",
     "text": [
      "0     6429.769428\n",
      "1     9461.955708\n",
      "2    24831.064659\n",
      "3    23171.920226\n",
      "4     9473.090327\n",
      "Name: sum, dtype: float64\n"
     ]
    }
   ],
   "source": [
    "diff['sum'] = diff.sum(axis=1)\n",
    "print(diff['sum'].head())"
   ]
  },
  {
   "cell_type": "code",
   "execution_count": 40,
   "metadata": {},
   "outputs": [
    {
     "name": "stdout",
     "output_type": "stream",
     "text": [
      "RangeIndex(start=0, stop=10, step=1)\n"
     ]
    },
    {
     "data": {
      "text/plain": [
       "0"
      ]
     },
     "execution_count": 40,
     "metadata": {},
     "output_type": "execute_result"
    }
   ],
   "source": [
    "print(diff.index)\n",
    "tmp = min(diff_sort['Distance'])\n",
    "\n",
    "#print(diff.index(tmp))\n",
    "diff['Distance'].idxmin()"
   ]
  },
  {
   "cell_type": "markdown",
   "metadata": {},
   "source": [
    "## 對distance排序並找出最小值"
   ]
  },
  {
   "cell_type": "code",
   "execution_count": 41,
   "metadata": {},
   "outputs": [
    {
     "name": "stdout",
     "output_type": "stream",
     "text": [
      "       d_x0_y0    Distance      d_x1_y1     d_x2_y2     d_x3_y3      d_x4_y4  \\\n",
      "0  1482.402925   80.185038   189.372916   24.718941  348.057014   822.251476   \n",
      "9   521.503937   90.841401    18.216980  447.801147  186.292999  2882.356100   \n",
      "1   541.501934   97.144661   666.536743    1.813920  893.710928  1295.294069   \n",
      "4   427.008779   97.256672  1422.573494   18.105645  257.009298  1733.631532   \n",
      "7  1849.705745  100.487264    85.367235  502.025296  241.029373    12.248449   \n",
      "\n",
      "       d_x5_y5      d_x6_y6      d_x7_y7      d_x8_y8      d_x9_y9  \\\n",
      "0  1783.579020     0.189401     0.425442  1689.247283     9.339973   \n",
      "9    77.872947  1037.105437   313.951039  2671.446286     4.887822   \n",
      "1   237.193202  1010.432547    74.891145   432.965653  4210.470906   \n",
      "4   334.894064    66.268573  2331.396501   220.923178  2564.022591   \n",
      "7  2631.530748   143.414929  2695.412026    37.331502  1808.582083   \n",
      "\n",
      "            sum  \n",
      "0   6429.769428  \n",
      "9   8252.276094  \n",
      "1   9461.955708  \n",
      "4   9473.090327  \n",
      "7  10107.134650  \n",
      "Minimun Distance is row0 and value is 80.18503771739466\n"
     ]
    }
   ],
   "source": [
    "diff_sort = diff.sort_values(['Distance'], ascending=True)\n",
    "print(diff_sort.head())\n",
    "print('Minimun Distance is row'+ str(diff['Distance'].idxmin()) + ' and value is '+str(min(diff_sort['Distance'])))"
   ]
  },
  {
   "cell_type": "markdown",
   "metadata": {},
   "source": [
    "### 補充：循環兩兩相減寫法"
   ]
  },
  {
   "cell_type": "code",
   "execution_count": 31,
   "metadata": {},
   "outputs": [
    {
     "name": "stdout",
     "output_type": "stream",
     "text": [
      "Empty DataFrame\n",
      "Columns: []\n",
      "Index: []\n",
      "[]\n",
      "     d_x0_y0    d_x0_y1    d_x0_y2    d_x0_y3    d_x0_y4    d_x0_y5  \\\n",
      "0 -38.501986  48.885522 -15.134448  22.813384  -7.047738  14.179164   \n",
      "1  23.270194  45.452739  96.758033  20.676927  11.821870  73.914560   \n",
      "2  41.410302 -31.957058 -48.384507 -22.985973 -28.740210  24.759712   \n",
      "3  -1.694106 -40.041619 -22.456340 -70.477283 -68.780974  -0.017998   \n",
      "4  20.664191  63.683861  34.811478  -6.072475  58.068401  14.314257   \n",
      "\n",
      "     d_x0_y6    d_x0_y7    d_x0_y8    d_x0_y9  ...    d_x9_y0    d_x9_y1  \\\n",
      "0  54.962490  -7.832191  -4.910880  -0.322846  ... -41.235277  46.152231   \n",
      "1   5.747708  81.405546  28.121393  94.395086  ...  -6.236751  15.945794   \n",
      "2  16.891502 -45.220997 -54.849497 -37.495612  ...   1.979081 -71.388279   \n",
      "3 -59.868386 -69.781021 -61.678773 -97.227466  ...  24.315090 -14.032424   \n",
      "4 -32.210739  41.378587  27.167074  46.485549  ...  24.814821  67.834491   \n",
      "\n",
      "     d_x9_y2    d_x9_y3    d_x9_y4    d_x9_y5    d_x9_y6    d_x9_y7  \\\n",
      "0 -17.867739  20.080093  -9.781029  11.445873  52.229199 -10.565482   \n",
      "1  67.251088  -8.830018 -17.685075  44.407616 -23.759237  51.898601   \n",
      "2 -87.815728 -62.417194 -68.171431 -14.671509 -22.539719 -84.652218   \n",
      "3   3.552855 -44.468088 -42.771779  25.991197 -33.859191 -43.771826   \n",
      "4  38.962108  -1.921845  62.219031  18.464887 -28.060109  45.529217   \n",
      "\n",
      "     d_x9_y8    d_x9_y9  \n",
      "0  -7.644171  -3.056137  \n",
      "1  -1.385551  64.888141  \n",
      "2 -94.280718 -76.926832  \n",
      "3 -35.669578 -71.218271  \n",
      "4  31.317704  50.636179  \n",
      "\n",
      "[5 rows x 100 columns]\n",
      "['d_x0_y0' 'd_x0_y1' 'd_x0_y2' 'd_x0_y3' 'd_x0_y4' 'd_x0_y5' 'd_x0_y6'\n",
      " 'd_x0_y7' 'd_x0_y8' 'd_x0_y9' 'd_x1_y0' 'd_x1_y1' 'd_x1_y2' 'd_x1_y3'\n",
      " 'd_x1_y4' 'd_x1_y5' 'd_x1_y6' 'd_x1_y7' 'd_x1_y8' 'd_x1_y9' 'd_x2_y0'\n",
      " 'd_x2_y1' 'd_x2_y2' 'd_x2_y3' 'd_x2_y4' 'd_x2_y5' 'd_x2_y6' 'd_x2_y7'\n",
      " 'd_x2_y8' 'd_x2_y9' 'd_x3_y0' 'd_x3_y1' 'd_x3_y2' 'd_x3_y3' 'd_x3_y4'\n",
      " 'd_x3_y5' 'd_x3_y6' 'd_x3_y7' 'd_x3_y8' 'd_x3_y9' 'd_x4_y0' 'd_x4_y1'\n",
      " 'd_x4_y2' 'd_x4_y3' 'd_x4_y4' 'd_x4_y5' 'd_x4_y6' 'd_x4_y7' 'd_x4_y8'\n",
      " 'd_x4_y9' 'd_x5_y0' 'd_x5_y1' 'd_x5_y2' 'd_x5_y3' 'd_x5_y4' 'd_x5_y5'\n",
      " 'd_x5_y6' 'd_x5_y7' 'd_x5_y8' 'd_x5_y9' 'd_x6_y0' 'd_x6_y1' 'd_x6_y2'\n",
      " 'd_x6_y3' 'd_x6_y4' 'd_x6_y5' 'd_x6_y6' 'd_x6_y7' 'd_x6_y8' 'd_x6_y9'\n",
      " 'd_x7_y0' 'd_x7_y1' 'd_x7_y2' 'd_x7_y3' 'd_x7_y4' 'd_x7_y5' 'd_x7_y6'\n",
      " 'd_x7_y7' 'd_x7_y8' 'd_x7_y9' 'd_x8_y0' 'd_x8_y1' 'd_x8_y2' 'd_x8_y3'\n",
      " 'd_x8_y4' 'd_x8_y5' 'd_x8_y6' 'd_x8_y7' 'd_x8_y8' 'd_x8_y9' 'd_x9_y0'\n",
      " 'd_x9_y1' 'd_x9_y2' 'd_x9_y3' 'd_x9_y4' 'd_x9_y5' 'd_x9_y6' 'd_x9_y7'\n",
      " 'd_x9_y8' 'd_x9_y9']\n"
     ]
    }
   ],
   "source": [
    "# 循環相減\n",
    "diff_test = pd.DataFrame()\n",
    "print(diff_test.head())\n",
    "\n",
    "list_diff_test = diff_test.columns.values\n",
    "print(list_diff_test)\n",
    "for i in list_x:\n",
    "    for j in list_y:\n",
    "            d = x[i] - y[j]\n",
    "            diff_test['d_x' + str(i) + '_y' + str(j)] = d # Add new column which is the result of multiplying columns i and j together\n",
    "\n",
    "print( diff_test.head())\n",
    "\n",
    "list_diff_test = diff_test.columns.values\n",
    "print(list_diff_test)"
   ]
  },
  {
   "cell_type": "code",
   "execution_count": null,
   "metadata": {},
   "outputs": [],
   "source": []
  }
 ],
 "metadata": {
  "kernelspec": {
   "display_name": "Python 3",
   "language": "python",
   "name": "python3"
  },
  "language_info": {
   "codemirror_mode": {
    "name": "ipython",
    "version": 3
   },
   "file_extension": ".py",
   "mimetype": "text/x-python",
   "name": "python",
   "nbconvert_exporter": "python",
   "pygments_lexer": "ipython3",
   "version": "3.7.3"
  }
 },
 "nbformat": 4,
 "nbformat_minor": 2
}
