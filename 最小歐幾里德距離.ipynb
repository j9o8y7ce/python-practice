{
 "cells": [
  {
   "cell_type": "markdown",
   "metadata": {},
   "source": [
    "# 歐幾里德距離\n",
    "1. 生成兩個table 各為n*n個隨機變數\n",
    "2. 進行x1-y1 以此類推相減 並取平成相加再開根號\n",
    "3. 找出最近的兩個點"
   ]
  },
  {
   "cell_type": "code",
   "execution_count": 9,
   "metadata": {},
   "outputs": [],
   "source": [
    "import numpy as np\n",
    "import pandas as pd"
   ]
  },
  {
   "cell_type": "markdown",
   "metadata": {},
   "source": [
    "## 生成兩個 10*10 隨機變數(X,Y)"
   ]
  },
  {
   "cell_type": "code",
   "execution_count": 10,
   "metadata": {},
   "outputs": [
    {
     "name": "stdout",
     "output_type": "stream",
     "text": [
      "           0          1          2          3          4          5  \\\n",
      "0  52.698506   2.597499   9.949810  19.925341  11.823373  72.390624   \n",
      "1  73.959397  89.140967   0.368252  54.788136  44.679100  37.031037   \n",
      "2  62.745413  95.994047  37.241459  87.925679  21.674006  79.055500   \n",
      "3  13.166609  35.037853  80.753999  93.382699  20.558857  81.167888   \n",
      "4  14.667178  80.482193  40.417748  81.452293  42.158554  86.634429   \n",
      "\n",
      "           6          7          8          9  \n",
      "0  68.999348   2.204086  63.016410  27.897586  \n",
      "1  41.107997   4.540226  61.909746  43.724356  \n",
      "2  89.880082  98.039052  65.963823  59.983219  \n",
      "3  60.186055  19.251674  54.989885  99.372993  \n",
      "4  34.042587  76.793897  71.627332  12.756522  \n",
      "           0          1          2          3          4          5  \\\n",
      "0  21.422687   5.826846  59.548598  43.038403  46.969154  64.951022   \n",
      "1   3.018987  26.369748  93.349731  55.272670  49.205792  14.171988   \n",
      "2  63.325140  96.058951  87.908717  43.750348  26.054263  51.185077   \n",
      "3  72.974798   7.932249  30.578465  10.451047  92.377916  19.360986   \n",
      "4  44.890471  39.240745  64.951111  86.504338  95.939500   6.213350   \n",
      "\n",
      "           6          7          8          9  \n",
      "0  39.833628  92.950982  17.228492  77.556081  \n",
      "1   6.239859   1.882116  58.087991  36.141151  \n",
      "2  88.653103   6.108379  35.685649   4.333688  \n",
      "3  44.726444  18.250142  94.364244   3.748824  \n",
      "4  57.530078  98.078745  75.987412  91.547639  \n"
     ]
    }
   ],
   "source": [
    "x = pd.DataFrame(np.random.uniform(0,100,size=(10, 10)), columns=list('0123456789'))\n",
    "#x.columns = ['x1','x2','x3','x4','x5','x6','x7','x8','x9','x10']\n",
    "print(x.head())\n",
    "\n",
    "y = pd.DataFrame(np.random.uniform(0,100,size=(10, 10)), columns=list('0123456789'))\n",
    "#y.columns = ['y1','y2','y3','y4','y5','y6','y7','y8','y9','y10']\n",
    "print(y.head())"
   ]
  },
  {
   "cell_type": "markdown",
   "metadata": {},
   "source": [
    "## 確認column name相同"
   ]
  },
  {
   "cell_type": "code",
   "execution_count": 11,
   "metadata": {},
   "outputs": [
    {
     "name": "stdout",
     "output_type": "stream",
     "text": [
      "['0' '1' '2' '3' '4' '5' '6' '7' '8' '9']\n",
      "['0' '1' '2' '3' '4' '5' '6' '7' '8' '9']\n"
     ]
    }
   ],
   "source": [
    "x['1'].head()\n",
    "list_x = x.columns.values\n",
    "print(list_x)\n",
    "\n",
    "list_y = y.columns.values\n",
    "print(list_y)"
   ]
  },
  {
   "cell_type": "markdown",
   "metadata": {},
   "source": [
    "## 建立 diff "
   ]
  },
  {
   "cell_type": "code",
   "execution_count": 12,
   "metadata": {},
   "outputs": [
    {
     "name": "stdout",
     "output_type": "stream",
     "text": [
      "Empty DataFrame\n",
      "Columns: []\n",
      "Index: []\n",
      "[]\n"
     ]
    }
   ],
   "source": [
    "# create empty dataframe\n",
    "diff = pd.DataFrame()\n",
    "print(diff.head())\n",
    "\n",
    "list_diff = diff.columns.values\n",
    "print(list_diff)"
   ]
  },
  {
   "cell_type": "markdown",
   "metadata": {},
   "source": [
    "## 將 x1-y1 ; x2-y2... 寫入diff，並計算x,y之間距離"
   ]
  },
  {
   "cell_type": "code",
   "execution_count": 13,
   "metadata": {},
   "outputs": [
    {
     "name": "stdout",
     "output_type": "stream",
     "text": [
      "       d_x0_y0    Distance      d_x1_y1      d_x2_y2      d_x3_y3  \\\n",
      "0   978.176851  138.022887    10.428686  2460.039716   534.213663   \n",
      "1  5032.541712  139.986890  3940.225892  8645.555471     0.234773   \n",
      "2     0.336083  133.801997     0.004212  2567.171020  1951.459828   \n",
      "3  3577.019535  183.783302   734.713745  2517.584128  6877.658950   \n",
      "4   913.447457  141.246733  1700.857004   601.885896    25.523161   \n",
      "\n",
      "       d_x4_y4      d_x5_y5      d_x6_y6      d_x7_y7      d_x8_y8  \\\n",
      "0  1235.225907    55.347681   850.639222  8234.999068  2096.533453   \n",
      "1    20.490941   522.536096  1215.787077     7.065549    14.605816   \n",
      "2    19.186655   776.760484     1.505478  8451.248662   916.767823   \n",
      "3  5157.977280  3820.093094   238.999558     1.003066  1550.340094   \n",
      "4  2892.390182  6467.549956   551.662226   453.044782    19.010291   \n",
      "\n",
      "       d_x9_y9  \n",
      "0  2465.966209  \n",
      "1    57.504999  \n",
      "2  3096.870327  \n",
      "3  9143.981722  \n",
      "4  6208.040167  \n"
     ]
    }
   ],
   "source": [
    "for i in list_x:\n",
    "    d = (x[i] - y[i]) ** 2\n",
    "    diff['d_' + 'x' + str(i) + '_' + 'y' + str(i)] = d # Add new column which is the result of multiplying columns i and j together\n",
    "    diff['Distance'] = diff.sum(axis=1) ** .5\n",
    "print(diff.head())"
   ]
  },
  {
   "cell_type": "markdown",
   "metadata": {},
   "source": [
    "### 驗算"
   ]
  },
  {
   "cell_type": "code",
   "execution_count": 14,
   "metadata": {},
   "outputs": [
    {
     "name": "stdout",
     "output_type": "stream",
     "text": [
      "0    19059.593342\n",
      "1    19596.535217\n",
      "2    17915.112570\n",
      "3    33803.154475\n",
      "4    19974.657857\n",
      "Name: sum, dtype: float64\n"
     ]
    }
   ],
   "source": [
    "diff['sum'] = diff.sum(axis=1)\n",
    "print(diff['sum'].head())"
   ]
  },
  {
   "cell_type": "markdown",
   "metadata": {},
   "source": [
    "## 對distance排序並找出最小值"
   ]
  },
  {
   "cell_type": "code",
   "execution_count": 19,
   "metadata": {},
   "outputs": [
    {
     "name": "stdout",
     "output_type": "stream",
     "text": [
      "       d_x0_y0    Distance      d_x1_y1      d_x2_y2      d_x3_y3  \\\n",
      "8   321.023846   92.222638  2154.065057   266.156776  1111.392696   \n",
      "6  2381.002313  104.049424    63.956472  3240.394172   632.429244   \n",
      "5  2523.017601  125.900132  2420.244716   692.872316  1145.834333   \n",
      "7   209.638895  129.032978   383.822049  3544.838993  1879.958740   \n",
      "2     0.336083  133.801997     0.004212  2567.171020  1951.459828   \n",
      "\n",
      "       d_x4_y4      d_x5_y5      d_x6_y6      d_x7_y7      d_x8_y8  \\\n",
      "8   313.537642  2230.152358   296.148143   953.379581    35.434997   \n",
      "6  1253.704675  1828.189224  1001.725965    37.128280    63.865579   \n",
      "5  1231.056014   488.546179  2794.833543    23.744700  2399.730281   \n",
      "7  3529.443189  1245.747705    28.042206  5085.308791   591.517227   \n",
      "2    19.186655   776.760484     1.505478  8451.248662   916.767823   \n",
      "\n",
      "       d_x9_y9           sum  \n",
      "8   735.580809   8509.094543  \n",
      "6   220.905781  10827.351129  \n",
      "5  2013.376358  15859.156173  \n",
      "7    22.254133  16649.604905  \n",
      "2  3096.870327  17915.112570  \n",
      "92.22263809105722\n"
     ]
    }
   ],
   "source": [
    "diff_sort = diff.sort_values(['Distance'], ascending=True)\n",
    "print(diff_sort.head())\n",
    "print(min(diff_sort['Distance']))"
   ]
  },
  {
   "cell_type": "code",
   "execution_count": null,
   "metadata": {},
   "outputs": [],
   "source": []
  }
 ],
 "metadata": {
  "kernelspec": {
   "display_name": "Python 3",
   "language": "python",
   "name": "python3"
  },
  "language_info": {
   "codemirror_mode": {
    "name": "ipython",
    "version": 3
   },
   "file_extension": ".py",
   "mimetype": "text/x-python",
   "name": "python",
   "nbconvert_exporter": "python",
   "pygments_lexer": "ipython3",
   "version": "3.7.3"
  }
 },
 "nbformat": 4,
 "nbformat_minor": 2
}
