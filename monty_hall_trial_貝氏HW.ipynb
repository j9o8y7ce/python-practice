{
 "cells": [
  {
   "cell_type": "markdown",
   "metadata": {},
   "source": [
    " ### Simulate Monty Hall Problem"
   ]
  },
  {
   "cell_type": "markdown",
   "metadata": {},
   "source": [
    "## 應用貝氏統計方法HW\n",
    "\n",
    "說明：第一次上課時，提到Monte Hall Problem，其中，提到參賽者一旦選了一個門之後，主持人一定會打開剩下兩個門當中的一個門，讓參賽者看到打開的門後面沒有獎，然後詢問參賽者要不要更換選擇。\n",
    "\n",
    "請利用程式(任何熟悉的程式都可以)，看看10000個參賽者如果都採取\"永遠都改變第一次的選擇\"，最後會有多少人中獎? 如果這10000個參賽者都採取\"永不改變第一次的選擇\"，最後又會有多少人中獎?\n",
    "\n",
    "上傳的作業必須符合以下條件：\n",
    "\n",
    "(1)其他人，包含助教，可以直接剪貼上傳的語法，並且執行，得到結果。\n",
    "\n",
    "(2)執行完所出現的結果必須有文字說明參賽者的策略、以及10000個人當中有中獎的人數。\n",
    "\n",
    "(3)語法中請包含繳交作業人的系所、年級、學號及姓名。"
   ]
  },
  {
   "cell_type": "code",
   "execution_count": 1,
   "metadata": {},
   "outputs": [],
   "source": [
    "import numpy as np\n",
    "import pandas as pd"
   ]
  },
  {
   "cell_type": "code",
   "execution_count": 31,
   "metadata": {},
   "outputs": [
    {
     "name": "stdout",
     "output_type": "stream",
     "text": [
      "remain correct guess is 331\n",
      "change to right is 0\n"
     ]
    }
   ],
   "source": [
    "# 這邊不用看\n",
    "\n",
    "change_answer_rigtt = 0\n",
    "change_answer_wrong = 0\n",
    "remain_answer_right = 0\n",
    "remain_answer_wrong = 0\n",
    "guess_mind = 1 #(表示換選擇) \n",
    "    \n",
    "for i in range(1000):\n",
    "    door = [1, 2, 3]\n",
    "    gift = np.random.randint(0, 3)\n",
    "    guess = np.random.randint(0, 3)\n",
    "    # first choice\n",
    "    if gift == guess:\n",
    "  #      host_open_door = [door - gift]\n",
    "        if guess_mind == 1:\n",
    "            remain_answer_right += 1\n",
    "        else:\n",
    "            change_answer_wrong += 1\n",
    "    if gift != guess:\n",
    "   #     host_open_door = [door - gift - guess]\n",
    "        if guess_mind == 1:\n",
    "            remain_answer_wrong += 1\n",
    "        else:\n",
    "            change_answer_rigtt += 1\n",
    "#    if gift == guess:\n",
    "#        k += 1\n",
    "#    else:\n",
    "#        guess_wrong +=1\n",
    "print('remain correct guess is'+ \" \" + str(remain_answer_right ))\n",
    "print('change to right is'+ \" \" + str(change_answer_rigtt))"
   ]
  },
  {
   "cell_type": "code",
   "execution_count": 30,
   "metadata": {},
   "outputs": [
    {
     "name": "stdout",
     "output_type": "stream",
     "text": [
      "Change answer and get gift is 689\n",
      "Change answer and not get gift is 311\n"
     ]
    }
   ],
   "source": [
    "# 一定換選項\n",
    "change_answer_rigtt = 0\n",
    "change_answer_wrong = 0\n",
    "\n",
    "guess_mind = 1 #(1表示一定換選擇) \n",
    "    \n",
    "for i in range(1000):\n",
    "    door = [1, 2, 3]\n",
    "    gift = np.random.randint(0, 3)\n",
    "    guess = np.random.randint(0, 3)\n",
    "    # first choice\n",
    "    if gift == guess:\n",
    "  #      host_open_door = [door - gift]\n",
    "        change_answer_wrong += 1\n",
    "    if gift != guess:\n",
    "  #      host_open_door = [door - gift - guess]\n",
    "        change_answer_rigtt += 1\n",
    "\n",
    "print('Change answer and get gift is'+ \" \" + str(change_answer_rigtt ))\n",
    "print('Change answer and not get gift is'+ \" \" + str(change_answer_wrong))"
   ]
  },
  {
   "cell_type": "code",
   "execution_count": 27,
   "metadata": {},
   "outputs": [
    {
     "name": "stdout",
     "output_type": "stream",
     "text": [
      "The number of people who Remain answer and get gift is 3312\n",
      "The ratio of People who Remain answer and get gift is 0.3312\n"
     ]
    }
   ],
   "source": [
    "# 一定不換選項\n",
    "\n",
    "remain_answer_right = 0\n",
    "remain_answer_wrong = 0\n",
    "guess_mind = 0 #(1表示一定換選擇) \n",
    "trial = 10000\n",
    "    \n",
    "for i in range(10000):\n",
    "    door = [1, 2, 3]\n",
    "    gift = np.random.randint(0, 3)\n",
    "    guess = np.random.randint(0, 3)\n",
    "    # first choice\n",
    "    if gift == guess:\n",
    "  #      host_open_door = [door - gift]\n",
    "        remain_answer_right += 1\n",
    "    if gift != guess:\n",
    "   #     host_open_door = [door - gift - guess]\n",
    "        remain_answer_wrong += 1\n",
    "\n",
    "print('The number of people who Remain answer and get gift is '+ str(remain_answer_right ))\n",
    "print('The ratio of People who Remain answer and get gift is '+ str(remain_answer_right/trial))"
   ]
  },
  {
   "cell_type": "code",
   "execution_count": 7,
   "metadata": {},
   "outputs": [],
   "source": [
    "# 最後答案在這\n",
    "remain_answer_right = 0\n",
    "remain_answer_wrong = 0\n",
    "change_answer_rigtt = 0\n",
    "change_answer_wrong = 0\n",
    "def monty_hall_trial(trial_number, change_mind):  \n",
    "    # if change_mind=1 then change_guess_answer;\n",
    "    # if change_mind=0 then remain_guess_answer;\n",
    "    remain_answer_right = 0\n",
    "    remain_answer_wrong = 0\n",
    "    change_answer_rigtt = 0\n",
    "    change_answer_wrong = 0\n",
    "   \n",
    "    for i in range(trial_number):\n",
    "        gift = np.random.randint(0, 3)\n",
    "        guess = np.random.randint(0, 3)\n",
    "        # the people who always remain mind\n",
    "        if change_mind == 0:\n",
    "            # 當第一次就猜對，主持人會從剩下的兩門開其中一道，只要維持選擇就是對的\n",
    "            if gift == guess:\n",
    "                remain_answer_right += 1\n",
    "            if gift != guess:\n",
    "                remain_answer_wrong += 1\n",
    "\n",
    "        # the people who always change mind\n",
    "        if change_mind == 1:\n",
    "            # 當第一次猜錯，主持人已知禮物在哪扇門後，所以僅會開沒有禮物的門，此時更換選擇才是是對的\n",
    "            if gift == guess:\n",
    "                change_answer_wrong += 1\n",
    "            if gift != guess:\n",
    "                change_answer_rigtt += 1\n",
    "         # print result       \n",
    "    if change_mind == 1:\n",
    "        print('The number of people who Change answer and get gift is '+ str(change_answer_rigtt ))\n",
    "    else:\n",
    "        print('The number of people who Remain answer and get gift is '+ str(remain_answer_right ))\n",
    "    \n",
    "    student_info = '流行病學與預防醫學研究所-碩一-p10849006-謝淳雅'\n",
    "    \n",
    "    return student_info"
   ]
  },
  {
   "cell_type": "code",
   "execution_count": 9,
   "metadata": {},
   "outputs": [
    {
     "name": "stdout",
     "output_type": "stream",
     "text": [
      "The number of people who Remain answer and get gift is 3281\n"
     ]
    },
    {
     "data": {
      "text/plain": [
       "'流行病學與預防醫學研究所-碩一-p10849006-謝淳雅'"
      ]
     },
     "execution_count": 9,
     "metadata": {},
     "output_type": "execute_result"
    }
   ],
   "source": [
    "monty_hall_trial(10000,0)\n"
   ]
  },
  {
   "cell_type": "code",
   "execution_count": 10,
   "metadata": {},
   "outputs": [
    {
     "name": "stdout",
     "output_type": "stream",
     "text": [
      "The number of people who Change answer and get gift is 6660\n"
     ]
    },
    {
     "data": {
      "text/plain": [
       "'流行病學與預防醫學研究所-碩一-p10849006-謝淳雅'"
      ]
     },
     "execution_count": 10,
     "metadata": {},
     "output_type": "execute_result"
    }
   ],
   "source": [
    "monty_hall_trial(10000,1)"
   ]
  },
  {
   "cell_type": "code",
   "execution_count": null,
   "metadata": {},
   "outputs": [],
   "source": []
  }
 ],
 "metadata": {
  "kernelspec": {
   "display_name": "Python 3",
   "language": "python",
   "name": "python3"
  },
  "language_info": {
   "codemirror_mode": {
    "name": "ipython",
    "version": 3
   },
   "file_extension": ".py",
   "mimetype": "text/x-python",
   "name": "python",
   "nbconvert_exporter": "python",
   "pygments_lexer": "ipython3",
   "version": "3.7.3"
  }
 },
 "nbformat": 4,
 "nbformat_minor": 2
}
