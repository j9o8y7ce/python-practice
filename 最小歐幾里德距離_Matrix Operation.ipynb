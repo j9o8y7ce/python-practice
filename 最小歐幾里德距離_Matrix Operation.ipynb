{
 "cells": [
  {
   "cell_type": "markdown",
   "metadata": {},
   "source": [
    "# 最小歐幾里德距離：Matrix Operation\n",
    "1. 生成兩個矩陣 各為n*n個隨機變數\n",
    "2. 算出兩點間距離：進行x1-y1 以此類推相減 並取平成相加再開根號\n",
    "3. 找出最近的兩個點"
   ]
  },
  {
   "cell_type": "code",
   "execution_count": 1,
   "metadata": {},
   "outputs": [],
   "source": [
    "import numpy as np\n",
    "np.set_printoptions(suppress=True) # 取消科學記號顯示方法"
   ]
  },
  {
   "cell_type": "code",
   "execution_count": null,
   "metadata": {},
   "outputs": [],
   "source": [
    "# 清除變數\n",
    "import gc #（garbage collector）\n",
    "del x, y, d, c1, A, B, C\n",
    "gc.collect()"
   ]
  },
  {
   "cell_type": "markdown",
   "metadata": {},
   "source": [
    "### 生成兩隨機變數矩陣"
   ]
  },
  {
   "cell_type": "code",
   "execution_count": 2,
   "metadata": {},
   "outputs": [
    {
     "name": "stdout",
     "output_type": "stream",
     "text": [
      "[[ 1.9 23.4 22.4 56.3]\n",
      " [48.   3.2 96.6 44.5]\n",
      " [63.8 98.  20.9  7.3]\n",
      " [90.9 34.1 48.1 62.4]]\n",
      "[[22.1 35.4 59.  94.7]\n",
      " [28.5 59.9 97.8 16.8]\n",
      " [84.  13.6 63.9 51. ]\n",
      " [18.8 24.  53.1 27.7]]\n"
     ]
    }
   ],
   "source": [
    "x = np.random.uniform(0, 100, size=(4, 4)).round(1)\n",
    "print(x)\n",
    "\n",
    "y = np.random.uniform(0, 100, size=(4, 4)).round(1)\n",
    "print(y)"
   ]
  },
  {
   "cell_type": "code",
   "execution_count": 3,
   "metadata": {},
   "outputs": [
    {
     "data": {
      "text/plain": [
       "array([[ 1.9, 23.4, 22.4, 56.3, 22.1, 35.4, 59. , 94.7],\n",
       "       [ 1.9, 23.4, 22.4, 56.3, 28.5, 59.9, 97.8, 16.8],\n",
       "       [ 1.9, 23.4, 22.4, 56.3, 84. , 13.6, 63.9, 51. ],\n",
       "       [ 1.9, 23.4, 22.4, 56.3, 18.8, 24. , 53.1, 27.7],\n",
       "       [48. ,  3.2, 96.6, 44.5, 22.1, 35.4, 59. , 94.7],\n",
       "       [48. ,  3.2, 96.6, 44.5, 28.5, 59.9, 97.8, 16.8],\n",
       "       [48. ,  3.2, 96.6, 44.5, 84. , 13.6, 63.9, 51. ],\n",
       "       [48. ,  3.2, 96.6, 44.5, 18.8, 24. , 53.1, 27.7],\n",
       "       [63.8, 98. , 20.9,  7.3, 22.1, 35.4, 59. , 94.7],\n",
       "       [63.8, 98. , 20.9,  7.3, 28.5, 59.9, 97.8, 16.8],\n",
       "       [63.8, 98. , 20.9,  7.3, 84. , 13.6, 63.9, 51. ],\n",
       "       [63.8, 98. , 20.9,  7.3, 18.8, 24. , 53.1, 27.7],\n",
       "       [90.9, 34.1, 48.1, 62.4, 22.1, 35.4, 59. , 94.7],\n",
       "       [90.9, 34.1, 48.1, 62.4, 28.5, 59.9, 97.8, 16.8],\n",
       "       [90.9, 34.1, 48.1, 62.4, 84. , 13.6, 63.9, 51. ],\n",
       "       [90.9, 34.1, 48.1, 62.4, 18.8, 24. , 53.1, 27.7]])"
      ]
     },
     "execution_count": 3,
     "metadata": {},
     "output_type": "execute_result"
    }
   ],
   "source": [
    "# 產出空array\n",
    "d = []\n",
    "\n",
    "# 產出x, y的各種組合\n",
    "for i in range(len(x)):\n",
    "    for j in range(len(y)):\n",
    "        d.append((x[i],y[j]))\n",
    "\n",
    "d = np.reshape(d, (16,8))\n",
    "d"
   ]
  },
  {
   "cell_type": "code",
   "execution_count": 4,
   "metadata": {},
   "outputs": [
    {
     "name": "stdout",
     "output_type": "stream",
     "text": [
      "[array([-20.2, -26.6, -82.1, -16.9,  25.9,  19.5, -36. ,  29.2,  41.7,\n",
      "        35.3, -20.2,  45. ,  68.8,  62.4,   6.9,  72.1])]\n",
      "[array([-20.2, -26.6, -82.1, -16.9,  25.9,  19.5, -36. ,  29.2,  41.7,\n",
      "        35.3, -20.2,  45. ,  68.8,  62.4,   6.9,  72.1]), array([-12. , -36.5,   9.8,  -0.6, -32.2, -56.7, -10.4, -20.8,  62.6,\n",
      "        38.1,  84.4,  74. ,  -1.3, -25.8,  20.5,  10.1])]\n",
      "[array([-20.2, -26.6, -82.1, -16.9,  25.9,  19.5, -36. ,  29.2,  41.7,\n",
      "        35.3, -20.2,  45. ,  68.8,  62.4,   6.9,  72.1]), array([-12. , -36.5,   9.8,  -0.6, -32.2, -56.7, -10.4, -20.8,  62.6,\n",
      "        38.1,  84.4,  74. ,  -1.3, -25.8,  20.5,  10.1]), array([-36.6, -75.4, -41.5, -30.7,  37.6,  -1.2,  32.7,  43.5, -38.1,\n",
      "       -76.9, -43. , -32.2, -10.9, -49.7, -15.8,  -5. ])]\n",
      "[array([-20.2, -26.6, -82.1, -16.9,  25.9,  19.5, -36. ,  29.2,  41.7,\n",
      "        35.3, -20.2,  45. ,  68.8,  62.4,   6.9,  72.1]), array([-12. , -36.5,   9.8,  -0.6, -32.2, -56.7, -10.4, -20.8,  62.6,\n",
      "        38.1,  84.4,  74. ,  -1.3, -25.8,  20.5,  10.1]), array([-36.6, -75.4, -41.5, -30.7,  37.6,  -1.2,  32.7,  43.5, -38.1,\n",
      "       -76.9, -43. , -32.2, -10.9, -49.7, -15.8,  -5. ]), array([-38.4,  39.5,   5.3,  28.6, -50.2,  27.7,  -6.5,  16.8, -87.4,\n",
      "        -9.5, -43.7, -20.4, -32.3,  45.6,  11.4,  34.7])]\n"
     ]
    }
   ],
   "source": [
    "d.shape\n",
    "\n",
    "# 產出空array\n",
    "c1 = []\n",
    "\n",
    "# \n",
    "n = 4\n",
    "\n",
    "# 產出 xi-yi的矩陣\n",
    "for i in range(len(x)):\n",
    "    c_i = []\n",
    "    c_i = d[:, i]-d[:, i + n]\n",
    "    #c1.extend(c_i)\n",
    "    c1.append(c_i)\n",
    "    if i == 4:\n",
    "        break\n",
    "    print(c1)"
   ]
  },
  {
   "cell_type": "code",
   "execution_count": 5,
   "metadata": {},
   "outputs": [
    {
     "name": "stdout",
     "output_type": "stream",
     "text": [
      "[[-20.2 -12.  -36.6 -38.4]\n",
      " [-26.6 -36.5 -75.4  39.5]\n",
      " [-82.1   9.8 -41.5   5.3]\n",
      " [-16.9  -0.6 -30.7  28.6]\n",
      " [ 25.9 -32.2  37.6 -50.2]\n",
      " [ 19.5 -56.7  -1.2  27.7]\n",
      " [-36.  -10.4  32.7  -6.5]\n",
      " [ 29.2 -20.8  43.5  16.8]\n",
      " [ 41.7  62.6 -38.1 -87.4]\n",
      " [ 35.3  38.1 -76.9  -9.5]\n",
      " [-20.2  84.4 -43.  -43.7]\n",
      " [ 45.   74.  -32.2 -20.4]\n",
      " [ 68.8  -1.3 -10.9 -32.3]\n",
      " [ 62.4 -25.8 -49.7  45.6]\n",
      " [  6.9  20.5 -15.8  11.4]\n",
      " [ 72.1  10.1  -5.   34.7]]\n"
     ]
    }
   ],
   "source": [
    "# 轉list為matrix\n",
    "c1 = np.matrix(c1)\n",
    "type(c1)\n",
    "\n",
    "# 對c1重新塑形再轉置\n",
    "c1 = c1.reshape((4,16))\n",
    "c1 = c1.transpose(); \n",
    "print(c1)"
   ]
  },
  {
   "cell_type": "code",
   "execution_count": 7,
   "metadata": {},
   "outputs": [
    {
     "name": "stdout",
     "output_type": "stream",
     "text": [
      "[[ 3366.16]\n",
      " [ 9285.22]\n",
      " [ 8586.79]\n",
      " [ 2046.42]\n",
      " [ 5641.45]\n",
      " [ 4363.87]\n",
      " [ 2515.7 ]\n",
      " [ 3459.77]\n",
      " [14748.02]\n",
      " [ 8701.56]\n",
      " [11290.09]\n",
      " [ 8954.  ]\n",
      " [ 5897.23]\n",
      " [ 9108.85]\n",
      " [  847.46]\n",
      " [ 6529.51]]\n",
      "[[ 58.02]\n",
      " [ 96.36]\n",
      " [ 92.66]\n",
      " [ 45.24]\n",
      " [ 75.11]\n",
      " [ 66.06]\n",
      " [ 50.16]\n",
      " [ 58.82]\n",
      " [121.44]\n",
      " [ 93.28]\n",
      " [106.25]\n",
      " [ 94.63]\n",
      " [ 76.79]\n",
      " [ 95.44]\n",
      " [ 29.11]\n",
      " [ 80.81]]\n"
     ]
    }
   ],
   "source": [
    "# matrix計算\n",
    "c2 = np.power(c1, 2).sum(axis=1) \n",
    "print(c2)\n",
    "c3 = np.sqrt(c2).round(2)\n",
    "print(c3)"
   ]
  },
  {
   "cell_type": "code",
   "execution_count": 8,
   "metadata": {},
   "outputs": [
    {
     "data": {
      "text/plain": [
       "[(14, 0)]"
      ]
     },
     "execution_count": 8,
     "metadata": {},
     "output_type": "execute_result"
    }
   ],
   "source": [
    "min = c3.min()\n",
    "def finditem(element, matrix):\n",
    "    result = []\n",
    "    for i in range(len(matrix)):\n",
    "        for j in range(len(matrix[i])):\n",
    "            if matrix[i][j] == element:\n",
    "                result.append((i, j))\n",
    "    return result\n",
    "finditem(min, c3)"
   ]
  },
  {
   "cell_type": "code",
   "execution_count": null,
   "metadata": {},
   "outputs": [],
   "source": []
  }
 ],
 "metadata": {
  "kernelspec": {
   "display_name": "Python 3",
   "language": "python",
   "name": "python3"
  },
  "language_info": {
   "codemirror_mode": {
    "name": "ipython",
    "version": 3
   },
   "file_extension": ".py",
   "mimetype": "text/x-python",
   "name": "python",
   "nbconvert_exporter": "python",
   "pygments_lexer": "ipython3",
   "version": "3.7.3"
  }
 },
 "nbformat": 4,
 "nbformat_minor": 2
}
